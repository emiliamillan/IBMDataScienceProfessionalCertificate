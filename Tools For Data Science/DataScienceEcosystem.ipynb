{
 "cells": [
  {
   "cell_type": "markdown",
   "id": "1ac1f2de-634f-4e1f-a1c6-4bf2143bf2a6",
   "metadata": {},
   "source": [
    "\n",
    "#Data Science Tools and Ecosystem"
   ]
  },
  {
   "cell_type": "markdown",
   "id": "8a738f45-3135-402d-8f63-1106bccb0e40",
   "metadata": {
    "tags": []
   },
   "source": [
    "\n",
    "### In this notebook, Data Science Tools and Ecosystem are summarized."
   ]
  },
  {
   "cell_type": "markdown",
   "id": "26fdc696-ffb2-46a5-a5f2-c14e5ca4aa7e",
   "metadata": {},
   "source": [
    "\n",
    "### Some of the popular languages that Data Scientists use are:\n",
    "\n",
    "1. Python\n",
    "2. R\n",
    "3. SQL\n",
    "4. Julia"
   ]
  },
  {
   "cell_type": "markdown",
   "id": "3923c59f-832d-48a2-972d-2acc31cf399c",
   "metadata": {},
   "source": [
    "\n",
    "\n",
    "### Some of the commonly used libraries used by Data Scientists include:\n",
    "\n",
    "1. Apache Hadoop\n",
    "2. Apache Hive\n",
    "3. Apache Pig\n",
    " "
   ]
  },
  {
   "cell_type": "markdown",
   "id": "f23d3bc8-99da-430c-b099-4d216c3f2c92",
   "metadata": {},
   "source": [
    "## Exercise 6 - Create a markdown cell with a table of Data Science tools"
   ]
  },
  {
   "cell_type": "markdown",
   "id": "c2b1cb5b-f46a-40c5-a77c-e16296cb2c31",
   "metadata": {},
   "source": [
    "| Data Science Tools |\n",
    "|-|\n",
    "| JupyterLab |\n",
    "| Spyder |\n",
    "| VS Code |\n",
    "    "
   ]
  },
  {
   "cell_type": "markdown",
   "id": "f74034ad-89fc-4a53-9f30-02613fc894c0",
   "metadata": {},
   "source": []
  },
  {
   "cell_type": "markdown",
   "id": "f3cac1cd-0344-4fad-9204-8ce6af0be1be",
   "metadata": {},
   "source": [
    "### Below are a few examples of evaluating arithmetic expressions in Python"
   ]
  },
  {
   "cell_type": "code",
   "execution_count": 1,
   "id": "3d8826ba-a5e4-4056-b71e-7dc72a2d7fe5",
   "metadata": {
    "tags": []
   },
   "outputs": [
    {
     "data": {
      "text/plain": [
       "17"
      ]
     },
     "execution_count": 1,
     "metadata": {},
     "output_type": "execute_result"
    }
   ],
   "source": [
    "# This a simple arithmetic expression to mutiply then add integers\n",
    "(3*4)+5"
   ]
  },
  {
   "cell_type": "markdown",
   "id": "4328b1cd-48ed-4c67-a065-e1820ee6a8f5",
   "metadata": {},
   "source": [
    "## Exercise 9 - Create a code cell to convert minutes to hours"
   ]
  },
  {
   "cell_type": "code",
   "execution_count": 11,
   "id": "07762b44-6d87-49b3-9e27-312268a9a2d1",
   "metadata": {
    "tags": []
   },
   "outputs": [
    {
     "name": "stdout",
     "output_type": "stream",
     "text": [
      "3:20\n"
     ]
    }
   ],
   "source": [
    "total_minutes =200\n",
    "\n",
    "# Get hours\n",
    "hours = total_minutes // 60\n",
    "\n",
    "# Additional minutes \n",
    "minutes = total_minutes % 60\n",
    "\n",
    "# Time as a string\n",
    "time_string = \"{}:{}\".format(hours, minutes)\n",
    "\n",
    "print(time_string) # Prints total hours"
   ]
  },
  {
   "cell_type": "markdown",
   "id": "5a72327b-06e5-4c7c-905c-2cbb19ff4262",
   "metadata": {},
   "source": [
    "## Exercise 10 - Insert a markdown cell to list Objectives"
   ]
  }
 ],
 "metadata": {
  "kernelspec": {
   "display_name": "Python",
   "language": "python",
   "name": "conda-env-python-py"
  },
  "language_info": {
   "codemirror_mode": {
    "name": "ipython",
    "version": 3
   },
   "file_extension": ".py",
   "mimetype": "text/x-python",
   "name": "python",
   "nbconvert_exporter": "python",
   "pygments_lexer": "ipython3",
   "version": "3.7.12"
  }
 },
 "nbformat": 4,
 "nbformat_minor": 5
}
